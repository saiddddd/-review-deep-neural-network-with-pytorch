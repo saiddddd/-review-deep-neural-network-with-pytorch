{
 "cells": [
  {
   "cell_type": "markdown",
   "metadata": {},
   "source": [
    "# 1 D Tensor"
   ]
  },
  {
   "cell_type": "code",
   "execution_count": 1,
   "metadata": {},
   "outputs": [],
   "source": [
    "import torch\n",
    "import pandas as pd\n",
    "import numpy as np   \n",
    "import matplotlib.pyplot as plt    "
   ]
  },
  {
   "cell_type": "code",
   "execution_count": 2,
   "metadata": {},
   "outputs": [],
   "source": [
    "#Lets define the function to plot vectors in coorindate system\n",
    "def plotVec(vectors):\n",
    "    ax = plt.axes()\n",
    "\n",
    "# Vectors = [{\"vector\": vector variable, \"name\": name of vector, \"color\": color of the vector on diagram}]    \n",
    "    #For loop for drawing vectors\n",
    "    for vec in vectors:\n",
    "        ax.arrow(0, 0, *vec[\"vector\"], head_width = 0.05, color = vec[\"color\"], head_length = 0.1)\n",
    "        plt.text(*(vec[\"vector\"] + 0.1), vec[\"name\"])\n",
    "    \n",
    "    plt.ylim(-2, 2) #Setting limits for y-axis\n",
    "    plt.xlim(-2, 2) #Setting limits for x-axis"
   ]
  },
  {
   "cell_type": "code",
   "execution_count": 3,
   "metadata": {},
   "outputs": [
    {
     "name": "stdout",
     "output_type": "stream",
     "text": [
      "The dtype of tensor object after converting it to tensor:  torch.int64\n",
      "The type of tensor object after converting it to tensor:  torch.LongTensor\n"
     ]
    },
    {
     "data": {
      "text/plain": [
       "torch.Tensor"
      ]
     },
     "execution_count": 3,
     "metadata": {},
     "output_type": "execute_result"
    }
   ],
   "source": [
    "# Convert a integer list with length 5 to a tensor\n",
    "\n",
    "ints_to_tensor = torch.tensor([0, 1, 2, 3, 4])\n",
    "print(\"The dtype of tensor object after converting it to tensor: \", ints_to_tensor.dtype)\n",
    "print(\"The type of tensor object after converting it to tensor: \", ints_to_tensor.type())\n",
    "type(ints_to_tensor)"
   ]
  },
  {
   "cell_type": "code",
   "execution_count": 4,
   "metadata": {},
   "outputs": [
    {
     "name": "stderr",
     "output_type": "stream",
     "text": [
      "C:\\Users\\User\\AppData\\Local\\Temp\\ipykernel_12888\\2755064428.py:7: UserWarning: To copy construct from a tensor, it is recommended to use sourceTensor.clone().detach() or sourceTensor.clone().detach().requires_grad_(True), rather than torch.tensor(sourceTensor).\n",
      "  floats_int_tensor=torch.tensor(list_floats,dtype=torch.int64)\n"
     ]
    },
    {
     "data": {
      "text/plain": [
       "'torch.LongTensor'"
      ]
     },
     "execution_count": 4,
     "metadata": {},
     "output_type": "execute_result"
    }
   ],
   "source": [
    "#Convert float list to a float tensor 32bit\n",
    "list_floats = [0.0, 1.0, 2.0, 3.0, 4.0]\n",
    "list_floats = torch.tensor(list_floats)\n",
    "list_floats.type()\n",
    "\n",
    "#convert the float tensor to int64 Long Tensor\n",
    "floats_int_tensor=torch.tensor(list_floats,dtype=torch.int64)\n",
    "floats_int_tensor.type()"
   ]
  },
  {
   "cell_type": "code",
   "execution_count": 5,
   "metadata": {},
   "outputs": [
    {
     "name": "stdout",
     "output_type": "stream",
     "text": [
      "The type of the new_float_tensor: torch.FloatTensor\n",
      "The type of the new_float_tensor: torch.FloatTensor\n",
      "The size of the new_float_tensor:  torch.Size([5])\n",
      "The dimension of the new_float_tensor:  1\n"
     ]
    }
   ],
   "source": [
    "# Convert a integer list with length 5 to float tensor\n",
    "new_float_tensor = torch.FloatTensor([0, 1, 2, 3, 4])\n",
    "new_float_tensor.type()\n",
    "print(\"The type of the new_float_tensor:\", new_float_tensor.type())\n",
    "new_float_tensor = torch.FloatTensor([0, 1, 2, 3, 4])\n",
    "\n",
    "# Another method to convert the integer list to float tensor\n",
    "old_int_tensor = torch.tensor([0, 1, 2, 3, 4])\n",
    "new_float_tensor = old_int_tensor.type(torch.FloatTensor)\n",
    "print(\"The type of the new_float_tensor:\", new_float_tensor.type())\n",
    "\n",
    "\n",
    "# Introduce the tensor_obj.size() & tensor_ndimension.size() methods\n",
    "print(\"The size of the new_float_tensor: \", new_float_tensor.size())\n",
    "print(\"The dimension of the new_float_tensor: \",new_float_tensor.ndimension())"
   ]
  },
  {
   "cell_type": "code",
   "execution_count": 6,
   "metadata": {},
   "outputs": [
    {
     "name": "stdout",
     "output_type": "stream",
     "text": [
      "Original Size:  tensor([0., 1., 2., 3., 4.])\n",
      "Size after view method tensor([[0.],\n",
      "        [1.],\n",
      "        [2.],\n",
      "        [3.],\n",
      "        [4.]])\n",
      "Size after view method torch.Size([5, 1])\n",
      "Size after view method 2\n",
      "Original Size:  tensor([0., 1., 2., 3., 4.])\n",
      "Size after view method tensor([[0.],\n",
      "        [1.],\n",
      "        [2.],\n",
      "        [3.],\n",
      "        [4.]])\n",
      "The dtype of new tensor:  torch.float64\n",
      "The type of new tensor:  torch.DoubleTensor\n",
      "The numpy array from tensor:  [0. 1. 2. 3. 4.]\n",
      "The dtype of numpy array:  float64\n",
      "The new tensor points to numpy_array :  tensor([0., 0., 0., 0., 0.], dtype=torch.float64)\n",
      "and back to numpy array points to the tensor:  [0. 0. 0. 0. 0.]\n"
     ]
    }
   ],
   "source": [
    "# Introduce the tensor_obj.view(row, column) method\n",
    "twoD_float_tensor = new_float_tensor.view(5, 1)\n",
    "print(\"Original Size: \", new_float_tensor)\n",
    "print(\"Size after view method\", twoD_float_tensor)\n",
    "print(\"Size after view method\", twoD_float_tensor.size()) #Tensor of size (5,1)\n",
    "print(\"Size after view method\", twoD_float_tensor.ndimension()) #Tensor dimension is now 2\n",
    "\n",
    "#What if you have a tensor with dynamic size but you want to reshape it? You can use -1 to do just that.\n",
    "# Introduce the use of -1 in tensor_obj.view(row, column) method\n",
    "twoD_float_tensor = new_float_tensor.view(-1, 1)\n",
    "print(\"Original Size: \", new_float_tensor)\n",
    "print(\"Size after view method\", twoD_float_tensor)\n",
    "\n",
    "# Convert a numpy array to a tensor\n",
    "numpy_array = np.array([0.0, 1.0, 2.0, 3.0, 4.0])\n",
    "new_tensor = torch.from_numpy(numpy_array)\n",
    "print(\"The dtype of new tensor: \", new_tensor.dtype)\n",
    "print(\"The type of new tensor: \", new_tensor.type())\n",
    "\n",
    "# Convert a tensor to a numpy array\n",
    "back_to_numpy = new_tensor.numpy()\n",
    "print(\"The numpy array from tensor: \", back_to_numpy)\n",
    "print(\"The dtype of numpy array: \", back_to_numpy.dtype)\n",
    "\n",
    "# Set all elements in numpy array to zero \n",
    "numpy_array[:] = 0\n",
    "print(\"The new tensor points to numpy_array : \", new_tensor)\n",
    "print(\"and back to numpy array points to the tensor: \", back_to_numpy)"
   ]
  },
  {
   "cell_type": "code",
   "execution_count": 9,
   "metadata": {},
   "outputs": [
    {
     "name": "stdout",
     "output_type": "stream",
     "text": [
      "Original Size:  tensor([1, 2, 3, 4, 5])\n",
      "Size after view method tensor([[1, 2, 3, 4, 5]])\n"
     ]
    }
   ],
   "source": [
    "#Converting a tensor to (1,5) tensor\n",
    "your_tensor = torch.tensor([1, 2, 3, 4, 5])\n",
    "your_tensor.size()\n",
    "# your_tensor.ndimesnion()\n",
    "your_new_tensor = your_tensor.view(1, 5)\n",
    "your_new_tensor.ndimension()\n",
    "print(\"Original Size: \", your_tensor)\n",
    "print(\"Size after view method\", your_new_tensor)"
   ]
  },
  {
   "cell_type": "code",
   "execution_count": 10,
   "metadata": {},
   "outputs": [
    {
     "name": "stdout",
     "output_type": "stream",
     "text": [
      "Dot product of tensors u and v =  0\n"
     ]
    },
    {
     "data": {
      "image/png": "[encoded data removed]",
      "text/plain": [
       "<Figure size 640x480 with 1 Axes>"
      ]
     },
     "metadata": {},
     "output_type": "display_data"
    }
   ],
   "source": [
    "u = torch.tensor([-1, 1])\n",
    "v = torch.tensor([1, 1])\n",
    "z = torch.dot(u,v)\n",
    "print(\"Dot product of tensors u and v = \", np.dot(u,v))\n",
    "\n",
    "\n",
    "plotVec([\n",
    "    {\"vector\": u.numpy(), \"name\": 'u', \"color\": 'r'},\n",
    "    {\"vector\": v.numpy(), \"name\": 'v', \"color\": 'b'}\n",
    "])"
   ]
  },
  {
   "cell_type": "markdown",
   "metadata": {},
   "source": [
    "# 2 D Tensor"
   ]
  },
  {
   "cell_type": "code",
   "execution_count": 11,
   "metadata": {},
   "outputs": [
    {
     "name": "stdout",
     "output_type": "stream",
     "text": [
      "The New 2D Tensor:  tensor([[11, 12, 13],\n",
      "        [21, 22, 23],\n",
      "        [31, 32, 33]])\n"
     ]
    }
   ],
   "source": [
    "import numpy as np \n",
    "import matplotlib.pyplot as plt\n",
    "import torch\n",
    "import pandas as pd\n",
    "\n",
    "#Creating 2D tensor from a list\n",
    "twoD_list = [[11, 12, 13], [21, 22, 23], [31, 32, 33]]\n",
    "twoD_tensor = torch.tensor(twoD_list)\n",
    "print(\"The New 2D Tensor: \", twoD_tensor)"
   ]
  },
  {
   "cell_type": "code",
   "execution_count": 12,
   "metadata": {},
   "outputs": [
    {
     "name": "stdout",
     "output_type": "stream",
     "text": [
      "Tensor -> Numpy Array:\n",
      "The numpy array after converting:  [[11 12 13]\n",
      " [21 22 23]\n",
      " [31 32 33]]\n",
      "Type after converting:  int64\n",
      "Numpy Array -> Tensor:\n",
      "The tensor after converting: tensor([[11, 12, 13],\n",
      "        [21, 22, 23],\n",
      "        [31, 32, 33]])\n",
      "Type after converting:  torch.int64\n",
      "Pandas Dataframe to numpy:  [[ 11  12]\n",
      " [ 21  22]\n",
      " [ 31 312]]\n",
      "Type BEFORE converting:  int64\n",
      "Tensor AFTER converting:  tensor([[ 11,  12],\n",
      "        [ 21,  22],\n",
      "        [ 31, 312]])\n",
      "Type AFTER converting:  torch.int64\n"
     ]
    },
    {
     "data": {
      "text/plain": [
       "tensor([[11,  3],\n",
       "        [33,  3],\n",
       "        [22,  2]])"
      ]
     },
     "execution_count": 12,
     "metadata": {},
     "output_type": "execute_result"
    }
   ],
   "source": [
    "#Converting tensor to numpy array and back to tensor\n",
    "twoD_numpy = twoD_tensor.numpy()\n",
    "print(\"Tensor -> Numpy Array:\")\n",
    "print(\"The numpy array after converting: \", twoD_numpy)\n",
    "print(\"Type after converting: \", twoD_numpy.dtype)\n",
    "\n",
    "new_twoD_tensor = torch.from_numpy(twoD_numpy)\n",
    "print(\"Numpy Array -> Tensor:\")\n",
    "print(\"The tensor after converting:\", new_twoD_tensor)\n",
    "print(\"Type after converting: \", new_twoD_tensor.dtype)\n",
    "\n",
    "#Lets convert panadas dataframe to a tenosr\n",
    "df = pd.DataFrame({'a':[11,21,31],'b':[12,22,312]})\n",
    "\n",
    "print(\"Pandas Dataframe to numpy: \", df.values)\n",
    "print(\"Type BEFORE converting: \", df.values.dtype)\n",
    "\n",
    "\n",
    "new_tensor = torch.from_numpy(df.values)\n",
    "print(\"Tensor AFTER converting: \", new_tensor)\n",
    "print(\"Type AFTER converting: \", new_tensor.dtype)\n",
    "\n",
    "#Lets convert a Pandas Series to a tensor\n",
    "df = pd.DataFrame({'A':[11, 33, 22],'B':[3, 3, 2]})\n",
    "pandas_to_numpy = df.values\n",
    "numpy_to_tensor = torch.tensor(pandas_to_numpy)\n",
    "numpy_to_tensor"
   ]
  },
  {
   "cell_type": "code",
   "execution_count": 13,
   "metadata": {},
   "outputs": [
    {
     "name": "stdout",
     "output_type": "stream",
     "text": [
      "Result after tensor_example[1:3]:  tensor([[21, 22, 23],\n",
      "        [31, 32, 33]])\n",
      "Dimension after tensor_example[1:3]:  2\n",
      "Result after sliced_tensor_example[1]:  tensor([31, 32, 33])\n",
      "Dimension after sliced_tensor_example[1]:  1\n",
      "Result:  tensor([31, 32, 33])\n",
      "Dimension:  1\n"
     ]
    },
    {
     "data": {
      "text/plain": [
       "tensor([[11, 12, 13],\n",
       "        [21,  0, 23],\n",
       "        [31,  0, 33]])"
      ]
     },
     "execution_count": 13,
     "metadata": {},
     "output_type": "execute_result"
    }
   ],
   "source": [
    "#Slicing rows\n",
    "tensor_example = torch.tensor([[11, 12, 13], [21, 22, 23], [31, 32, 33]])\n",
    "sliced_tensor_example = tensor_example[1:3] #Slicing 2nd and 3rd row\n",
    "print(\"Result after tensor_example[1:3]: \", sliced_tensor_example)\n",
    "print(\"Dimension after tensor_example[1:3]: \", sliced_tensor_example.ndimension())\n",
    "\n",
    "#Dimension of 2nd row of sliced tensor\n",
    "print(\"Result after sliced_tensor_example[1]: \", sliced_tensor_example[1])\n",
    "print(\"Dimension after sliced_tensor_example[1]: \", sliced_tensor_example[1].ndimension())\n",
    "\n",
    "#Lets try to get the values in row 2 and 3 in the second column. Note that the code below will not work.\n",
    "print(\"Result: \", tensor_example[1:3][1])\n",
    "tensor_example[1:3][1]\n",
    "print(\"Dimension: \", tensor_example[1:3][1].ndimension()) #This gives dimension of 1\n",
    "\n",
    "#In order to get the values in row 2 and 3 in the second column. we have to separate with a comma.\n",
    "tensor_example[1:3, 1]\n",
    "\n",
    "\n",
    "#Lets modify values in a 2D tensor.\n",
    "tensor_ques = torch.tensor([[11, 12, 13], [21, 22, 23], [31, 32, 33]])\n",
    "#We will modify the values in the second column of the second and 3rd row. \n",
    "tensor_ques[1:3, 1] = 0\n",
    "tensor_ques"
   ]
  },
  {
   "cell_type": "code",
   "execution_count": 14,
   "metadata": {},
   "outputs": [
    {
     "name": "stdout",
     "output_type": "stream",
     "text": [
      "tensor([[11, 12, 13],\n",
      "        [21, 22, 23],\n",
      "        [31, 32, 33]])\n",
      "Numer of dimensions of A =  2\n",
      "Shape of tensor A:  torch.Size([3, 3])\n",
      "Shape of tensor A:  torch.Size([3, 3])\n",
      "Number of elements in A:  9\n",
      "tensor([[11, 12, 13],\n",
      "        [21, 22, 23],\n",
      "        [31, 32, 33]])\n",
      "tensor([[ 121,  144,  169],\n",
      "        [ 441,  484,  529],\n",
      "        [ 961, 1024, 1089]])\n",
      "tensor([[0, 2],\n",
      "        [0, 2]])\n"
     ]
    }
   ],
   "source": [
    "#We first create a list with 3 nested lists.\n",
    "a = [[11,12,13], [21,22,23], [31,32,33]]\n",
    "b = torch.tensor([[11,12,13], [21,22,23], [31,32,33]])\n",
    "\n",
    "#We then cast the list to a torch tensor\n",
    "A = torch.tensor(a)\n",
    "print(A)\n",
    "\n",
    "#Lets check the no. of dimensions or rank\n",
    "print(\"Numer of dimensions of A = \", A.ndimension())\n",
    "\n",
    "#The first list [] represents the first dimensions and the second represents the second dimension\n",
    "#2D Tensors is as follows: [[]]\n",
    "\n",
    "#Lets check the number of rows and columns of A. It should be 3,3 --- 3 rows, 3 columns\n",
    "print(\"Shape of tensor A: \", A.shape)\n",
    "#OR\n",
    "print(\"Shape of tensor A: \", A.size())\n",
    "\n",
    "#The 3,3 tensor has 2 axes. Axis = 0 (vertical) and Axis = 1 (Horizontal)\n",
    "\n",
    "#Number of elements in a tensor -- using numel() method\n",
    "print(\"Number of elements in A: \", A.numel())\n",
    "\n",
    "\n",
    "#Indexing and Slicing 2D Tensors\n",
    "\n",
    "#Indexing\n",
    "print(A)\n",
    "A[0][1] #Element in 1st row and 2nd column\n",
    "A[1][2] #Element in 2nd row and 3rd column\n",
    "A[2][0] #Element in 3rd row and first column\n",
    "\n",
    "#Slicing\n",
    "A[1:3,2] #Slicing elements in rows 2 and 3 from the 3rd column\n",
    "A[2,0:3] #Slicing all the elements in the 3rd row\n",
    "\n",
    "\n",
    "#Adding 2D tensors only works for tensors of the same type \n",
    "#Lets add A and B. Elements of the same position will be added\n",
    "B = torch.tensor([[11,12,13], [21,22,23], [31,32,33]])\n",
    "C = A + B\n",
    "C\n",
    "\n",
    "#Multiplication by a scalar is the same as multiplying a matrix by a scalr\n",
    "#Multiplication of tensors is an elemenet-wise multiplication. Same position elements\n",
    "D = A*B\n",
    "print(D)\n",
    "\n",
    "\n",
    "#Matrix multiplication can be done in torch but same rules will apply \n",
    "#First matrix must have equal columns to the rows of the second matrix\n",
    "\n",
    "A = torch.tensor([[0,1,1],[1,0,1]])\n",
    "B = torch.tensor([[1,1],[1,1],[-1,1]])\n",
    "\n",
    "#Matrix multiplication is done by using the mm method\n",
    "C = torch.mm(A,B)\n",
    "print(C)"
   ]
  },
  {
   "cell_type": "code",
   "execution_count": null,
   "metadata": {},
   "outputs": [],
   "source": []
  },
  {
   "cell_type": "code",
   "execution_count": null,
   "metadata": {},
   "outputs": [],
   "source": []
  },
  {
   "cell_type": "code",
   "execution_count": null,
   "metadata": {},
   "outputs": [],
   "source": []
  },
  {
   "cell_type": "code",
   "execution_count": null,
   "metadata": {},
   "outputs": [],
   "source": []
  },
  {
   "cell_type": "code",
   "execution_count": null,
   "metadata": {},
   "outputs": [],
   "source": []
  },
  {
   "cell_type": "code",
   "execution_count": null,
   "metadata": {},
   "outputs": [],
   "source": []
  },
  {
   "cell_type": "code",
   "execution_count": null,
   "metadata": {},
   "outputs": [],
   "source": []
  },
  {
   "cell_type": "code",
   "execution_count": null,
   "metadata": {},
   "outputs": [],
   "source": []
  },
  {
   "cell_type": "code",
   "execution_count": null,
   "metadata": {},
   "outputs": [],
   "source": []
  },
  {
   "cell_type": "code",
   "execution_count": null,
   "metadata": {},
   "outputs": [],
   "source": []
  },
  {
   "cell_type": "code",
   "execution_count": null,
   "metadata": {},
   "outputs": [],
   "source": []
  },
  {
   "cell_type": "code",
   "execution_count": null,
   "metadata": {},
   "outputs": [],
   "source": []
  },
  {
   "cell_type": "code",
   "execution_count": null,
   "metadata": {},
   "outputs": [],
   "source": []
  },
  {
   "cell_type": "code",
   "execution_count": null,
   "metadata": {},
   "outputs": [],
   "source": []
  }
 ],
 "metadata": {
  "kernelspec": {
   "display_name": "Python 3",
   "language": "python",
   "name": "python3"
  },
  "language_info": {
   "codemirror_mode": {
    "name": "ipython",
    "version": 3
   },
   "file_extension": ".py",
   "mimetype": "text/x-python",
   "name": "python",
   "nbconvert_exporter": "python",
   "pygments_lexer": "ipython3",
   "version": "3.11.5"
  }
 },
 "nbformat": 4,
 "nbformat_minor": 2
}
